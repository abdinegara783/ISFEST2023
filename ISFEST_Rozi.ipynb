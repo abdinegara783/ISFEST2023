{
  "nbformat": 4,
  "nbformat_minor": 0,
  "metadata": {
    "colab": {
      "provenance": [],
      "authorship_tag": "ABX9TyMkjw2Xr6IJQkNsYiuXCuPE",
      "include_colab_link": true
    },
    "kernelspec": {
      "name": "python3",
      "display_name": "Python 3"
    },
    "language_info": {
      "name": "python"
    }
  },
  "cells": [
    {
      "cell_type": "markdown",
      "metadata": {
        "id": "view-in-github",
        "colab_type": "text"
      },
      "source": [
        "<a href=\"https://colab.research.google.com/github/abdinegara783/ISFEST2023/blob/main/ISFEST_Rozi.ipynb\" target=\"_parent\"><img src=\"https://colab.research.google.com/assets/colab-badge.svg\" alt=\"Open In Colab\"/></a>"
      ]
    },
    {
      "cell_type": "code",
      "execution_count": 1,
      "metadata": {
        "id": "tsU6pCdKDKEY"
      },
      "outputs": [],
      "source": [
        "import pandas as pd\n",
        "import seaborn as sns\n",
        "import numpy as np\n",
        "import matplotlib.pyplot as plt"
      ]
    },
    {
      "cell_type": "code",
      "source": [
        "data = pd.read_csv('jabodetabek_house_price.csv')\n",
        "data"
      ],
      "metadata": {
        "colab": {
          "base_uri": "https://localhost:8080/",
          "height": 1000
        },
        "id": "6zkF2XqmDcJJ",
        "outputId": "733aca66-ff34-4d7e-e924-780ac6846ad7"
      },
      "execution_count": 2,
      "outputs": [
        {
          "output_type": "execute_result",
          "data": {
            "text/plain": [
              "                                                    url   price_in_rp  \\\n",
              "0     https://www.rumah123.com/properti/bekasi/hos11...  2.990000e+09   \n",
              "1     https://www.rumah123.com/properti/bekasi/hos10...  1.270000e+09   \n",
              "2     https://www.rumah123.com/properti/bekasi/hos10...  1.950000e+09   \n",
              "3     https://www.rumah123.com/properti/bekasi/hos10...  3.300000e+09   \n",
              "4     https://www.rumah123.com/properti/bekasi/hos10...  4.500000e+09   \n",
              "...                                                 ...           ...   \n",
              "3548  https://www.rumah123.com/properti/tangerang/ho...  5.880000e+08   \n",
              "3549  https://www.rumah123.com/properti/tangerang/ho...  7.850000e+08   \n",
              "3550  https://www.rumah123.com/properti/tangerang/ho...  7.550000e+08   \n",
              "3551  https://www.rumah123.com/properti/tangerang/ho...  8.000000e+08   \n",
              "3552  https://www.rumah123.com/properti/tangerang/ho...  6.550000e+08   \n",
              "\n",
              "                                                  title  \\\n",
              "0     Rumah cantik Sumarecon Bekasi\\nLingkungan asri...   \n",
              "1             Rumah Kekinian, Magenta Summarecon Bekasi   \n",
              "2     Rumah Cantik 2 Lantai Cluster Bluebell Summare...   \n",
              "3     Rumah Mewah 2Lantai L10x18 C di Cluster VERNON...   \n",
              "4     Rumah Hoek di Cluster Maple Summarecon Bekasi,...   \n",
              "...                                                 ...   \n",
              "3548   Terbaru Cluster Minimalis Sudimara Dekat Stasiun   \n",
              "3549  Rumah Modern Asri dan Nyaman Bebas Banjir Loka...   \n",
              "3550  Rumah Mewah Murah 2 Lantai Gratis Biaya Biaya ...   \n",
              "3551  Rumah 2 Lantai Dekat Perkantoran BSD City AEON...   \n",
              "3552  Rumah 2 Lantai Harga 1 Lantai Di Pamulang, Fre...   \n",
              "\n",
              "                               address               district        city  \\\n",
              "0            Summarecon Bekasi, Bekasi      Summarecon Bekasi      Bekasi   \n",
              "1            Summarecon Bekasi, Bekasi      Summarecon Bekasi      Bekasi   \n",
              "2            Summarecon Bekasi, Bekasi      Summarecon Bekasi      Bekasi   \n",
              "3            Summarecon Bekasi, Bekasi      Summarecon Bekasi      Bekasi   \n",
              "4            Summarecon Bekasi, Bekasi      Summarecon Bekasi      Bekasi   \n",
              "...                                ...                    ...         ...   \n",
              "3548                Jombang, Tangerang                Jombang   Tangerang   \n",
              "3549         Lengkong Kulon, Tangerang         Lengkong Kulon   Tangerang   \n",
              "3550         Lengkong Kulon, Tangerang         Lengkong Kulon   Tangerang   \n",
              "3551  BSD Provance Parkland, Tangerang  BSD Provance Parkland   Tangerang   \n",
              "3552               Sudimara, Tangerang               Sudimara   Tangerang   \n",
              "\n",
              "           lat        long                                         facilities  \\\n",
              "0    -6.223945  106.986275       Tempat Jemuran, Jalur Telepon, Taman,  Taman   \n",
              "1    -6.223945  106.986275                                              Taman   \n",
              "2    -6.223945  106.986275   Jogging Track,  Kolam Renang, Masjid,  Taman,...   \n",
              "3    -6.223945  106.986275   Jalur Telepon,  Jogging Track, Track Lari,  K...   \n",
              "4    -6.223945  106.986275   Jogging Track,  Kolam Renang, Taman, Jalur Te...   \n",
              "...        ...         ...                                                ...   \n",
              "3548 -6.296615  106.704601  Masjid,  Taman, Tempat Jemuran, Keamanan 24 ja...   \n",
              "3549 -6.283454  106.638775  Masjid,  Keamanan,  Jogging Track,  Taman, Tem...   \n",
              "3550 -6.283454  106.638775   Keamanan,  Taman, Jogging Track, Tempat Jemur...   \n",
              "3551 -6.288237  106.665859  Tempat Jemuran, Keamanan, Keamanan 24 jam, Was...   \n",
              "3552 -6.296963  106.710635  Kulkas, Masjid,  Taman, Lapangan Bola, Tempat ...   \n",
              "\n",
              "     property_type  ... electricity  maid_bedrooms  maid_bathrooms  floors  \\\n",
              "0            rumah  ...    4400 mah              0               1     2.0   \n",
              "1            rumah  ...    2200 mah              0               0     2.0   \n",
              "2            rumah  ...    2200 mah              1               1     2.0   \n",
              "3            rumah  ...    3500 mah              1               1     2.0   \n",
              "4            rumah  ...    3500 mah              1               1     2.0   \n",
              "...            ...  ...         ...            ...             ...     ...   \n",
              "3548         rumah  ...    1300 mah              0               0     1.0   \n",
              "3549         rumah  ...    1300 mah              0               0     2.0   \n",
              "3550         rumah  ...    1300 mah              0               0     2.0   \n",
              "3551         rumah  ...    2200 mah              0               0     2.0   \n",
              "3552         rumah  ...    1300 mah              0               0     2.0   \n",
              "\n",
              "      building_age  year_built property_condition building_orientation  \\\n",
              "0              5.0      2017.0              bagus                  NaN   \n",
              "1              NaN         NaN              bagus                  NaN   \n",
              "2              NaN         NaN              bagus                  NaN   \n",
              "3              6.0      2016.0       bagus sekali                utara   \n",
              "4              9.0      2013.0              bagus                utara   \n",
              "...            ...         ...                ...                  ...   \n",
              "3548           0.0      2022.0               baru                  NaN   \n",
              "3549           0.0      2022.0               baru                utara   \n",
              "3550           0.0      2022.0               baru                utara   \n",
              "3551           0.0      2022.0               baru              selatan   \n",
              "3552           0.0      2022.0               baru                timur   \n",
              "\n",
              "      garages      furnishing  \n",
              "0           0     unfurnished  \n",
              "1           0             NaN  \n",
              "2           1     unfurnished  \n",
              "3           2     unfurnished  \n",
              "4           1     unfurnished  \n",
              "...       ...             ...  \n",
              "3548        1       furnished  \n",
              "3549        0     unfurnished  \n",
              "3550        0     unfurnished  \n",
              "3551        0       furnished  \n",
              "3552        2  semi furnished  \n",
              "\n",
              "[3553 rows x 27 columns]"
            ],
            "text/html": [
              "\n",
              "  <div id=\"df-b8be1126-dccd-4dbe-b77c-8132b48ef030\">\n",
              "    <div class=\"colab-df-container\">\n",
              "      <div>\n",
              "<style scoped>\n",
              "    .dataframe tbody tr th:only-of-type {\n",
              "        vertical-align: middle;\n",
              "    }\n",
              "\n",
              "    .dataframe tbody tr th {\n",
              "        vertical-align: top;\n",
              "    }\n",
              "\n",
              "    .dataframe thead th {\n",
              "        text-align: right;\n",
              "    }\n",
              "</style>\n",
              "<table border=\"1\" class=\"dataframe\">\n",
              "  <thead>\n",
              "    <tr style=\"text-align: right;\">\n",
              "      <th></th>\n",
              "      <th>url</th>\n",
              "      <th>price_in_rp</th>\n",
              "      <th>title</th>\n",
              "      <th>address</th>\n",
              "      <th>district</th>\n",
              "      <th>city</th>\n",
              "      <th>lat</th>\n",
              "      <th>long</th>\n",
              "      <th>facilities</th>\n",
              "      <th>property_type</th>\n",
              "      <th>...</th>\n",
              "      <th>electricity</th>\n",
              "      <th>maid_bedrooms</th>\n",
              "      <th>maid_bathrooms</th>\n",
              "      <th>floors</th>\n",
              "      <th>building_age</th>\n",
              "      <th>year_built</th>\n",
              "      <th>property_condition</th>\n",
              "      <th>building_orientation</th>\n",
              "      <th>garages</th>\n",
              "      <th>furnishing</th>\n",
              "    </tr>\n",
              "  </thead>\n",
              "  <tbody>\n",
              "    <tr>\n",
              "      <th>0</th>\n",
              "      <td>https://www.rumah123.com/properti/bekasi/hos11...</td>\n",
              "      <td>2.990000e+09</td>\n",
              "      <td>Rumah cantik Sumarecon Bekasi\\nLingkungan asri...</td>\n",
              "      <td>Summarecon Bekasi, Bekasi</td>\n",
              "      <td>Summarecon Bekasi</td>\n",
              "      <td>Bekasi</td>\n",
              "      <td>-6.223945</td>\n",
              "      <td>106.986275</td>\n",
              "      <td>Tempat Jemuran, Jalur Telepon, Taman,  Taman</td>\n",
              "      <td>rumah</td>\n",
              "      <td>...</td>\n",
              "      <td>4400 mah</td>\n",
              "      <td>0</td>\n",
              "      <td>1</td>\n",
              "      <td>2.0</td>\n",
              "      <td>5.0</td>\n",
              "      <td>2017.0</td>\n",
              "      <td>bagus</td>\n",
              "      <td>NaN</td>\n",
              "      <td>0</td>\n",
              "      <td>unfurnished</td>\n",
              "    </tr>\n",
              "    <tr>\n",
              "      <th>1</th>\n",
              "      <td>https://www.rumah123.com/properti/bekasi/hos10...</td>\n",
              "      <td>1.270000e+09</td>\n",
              "      <td>Rumah Kekinian, Magenta Summarecon Bekasi</td>\n",
              "      <td>Summarecon Bekasi, Bekasi</td>\n",
              "      <td>Summarecon Bekasi</td>\n",
              "      <td>Bekasi</td>\n",
              "      <td>-6.223945</td>\n",
              "      <td>106.986275</td>\n",
              "      <td>Taman</td>\n",
              "      <td>rumah</td>\n",
              "      <td>...</td>\n",
              "      <td>2200 mah</td>\n",
              "      <td>0</td>\n",
              "      <td>0</td>\n",
              "      <td>2.0</td>\n",
              "      <td>NaN</td>\n",
              "      <td>NaN</td>\n",
              "      <td>bagus</td>\n",
              "      <td>NaN</td>\n",
              "      <td>0</td>\n",
              "      <td>NaN</td>\n",
              "    </tr>\n",
              "    <tr>\n",
              "      <th>2</th>\n",
              "      <td>https://www.rumah123.com/properti/bekasi/hos10...</td>\n",
              "      <td>1.950000e+09</td>\n",
              "      <td>Rumah Cantik 2 Lantai Cluster Bluebell Summare...</td>\n",
              "      <td>Summarecon Bekasi, Bekasi</td>\n",
              "      <td>Summarecon Bekasi</td>\n",
              "      <td>Bekasi</td>\n",
              "      <td>-6.223945</td>\n",
              "      <td>106.986275</td>\n",
              "      <td>Jogging Track,  Kolam Renang, Masjid,  Taman,...</td>\n",
              "      <td>rumah</td>\n",
              "      <td>...</td>\n",
              "      <td>2200 mah</td>\n",
              "      <td>1</td>\n",
              "      <td>1</td>\n",
              "      <td>2.0</td>\n",
              "      <td>NaN</td>\n",
              "      <td>NaN</td>\n",
              "      <td>bagus</td>\n",
              "      <td>NaN</td>\n",
              "      <td>1</td>\n",
              "      <td>unfurnished</td>\n",
              "    </tr>\n",
              "    <tr>\n",
              "      <th>3</th>\n",
              "      <td>https://www.rumah123.com/properti/bekasi/hos10...</td>\n",
              "      <td>3.300000e+09</td>\n",
              "      <td>Rumah Mewah 2Lantai L10x18 C di Cluster VERNON...</td>\n",
              "      <td>Summarecon Bekasi, Bekasi</td>\n",
              "      <td>Summarecon Bekasi</td>\n",
              "      <td>Bekasi</td>\n",
              "      <td>-6.223945</td>\n",
              "      <td>106.986275</td>\n",
              "      <td>Jalur Telepon,  Jogging Track, Track Lari,  K...</td>\n",
              "      <td>rumah</td>\n",
              "      <td>...</td>\n",
              "      <td>3500 mah</td>\n",
              "      <td>1</td>\n",
              "      <td>1</td>\n",
              "      <td>2.0</td>\n",
              "      <td>6.0</td>\n",
              "      <td>2016.0</td>\n",
              "      <td>bagus sekali</td>\n",
              "      <td>utara</td>\n",
              "      <td>2</td>\n",
              "      <td>unfurnished</td>\n",
              "    </tr>\n",
              "    <tr>\n",
              "      <th>4</th>\n",
              "      <td>https://www.rumah123.com/properti/bekasi/hos10...</td>\n",
              "      <td>4.500000e+09</td>\n",
              "      <td>Rumah Hoek di Cluster Maple Summarecon Bekasi,...</td>\n",
              "      <td>Summarecon Bekasi, Bekasi</td>\n",
              "      <td>Summarecon Bekasi</td>\n",
              "      <td>Bekasi</td>\n",
              "      <td>-6.223945</td>\n",
              "      <td>106.986275</td>\n",
              "      <td>Jogging Track,  Kolam Renang, Taman, Jalur Te...</td>\n",
              "      <td>rumah</td>\n",
              "      <td>...</td>\n",
              "      <td>3500 mah</td>\n",
              "      <td>1</td>\n",
              "      <td>1</td>\n",
              "      <td>2.0</td>\n",
              "      <td>9.0</td>\n",
              "      <td>2013.0</td>\n",
              "      <td>bagus</td>\n",
              "      <td>utara</td>\n",
              "      <td>1</td>\n",
              "      <td>unfurnished</td>\n",
              "    </tr>\n",
              "    <tr>\n",
              "      <th>...</th>\n",
              "      <td>...</td>\n",
              "      <td>...</td>\n",
              "      <td>...</td>\n",
              "      <td>...</td>\n",
              "      <td>...</td>\n",
              "      <td>...</td>\n",
              "      <td>...</td>\n",
              "      <td>...</td>\n",
              "      <td>...</td>\n",
              "      <td>...</td>\n",
              "      <td>...</td>\n",
              "      <td>...</td>\n",
              "      <td>...</td>\n",
              "      <td>...</td>\n",
              "      <td>...</td>\n",
              "      <td>...</td>\n",
              "      <td>...</td>\n",
              "      <td>...</td>\n",
              "      <td>...</td>\n",
              "      <td>...</td>\n",
              "      <td>...</td>\n",
              "    </tr>\n",
              "    <tr>\n",
              "      <th>3548</th>\n",
              "      <td>https://www.rumah123.com/properti/tangerang/ho...</td>\n",
              "      <td>5.880000e+08</td>\n",
              "      <td>Terbaru Cluster Minimalis Sudimara Dekat Stasiun</td>\n",
              "      <td>Jombang, Tangerang</td>\n",
              "      <td>Jombang</td>\n",
              "      <td>Tangerang</td>\n",
              "      <td>-6.296615</td>\n",
              "      <td>106.704601</td>\n",
              "      <td>Masjid,  Taman, Tempat Jemuran, Keamanan 24 ja...</td>\n",
              "      <td>rumah</td>\n",
              "      <td>...</td>\n",
              "      <td>1300 mah</td>\n",
              "      <td>0</td>\n",
              "      <td>0</td>\n",
              "      <td>1.0</td>\n",
              "      <td>0.0</td>\n",
              "      <td>2022.0</td>\n",
              "      <td>baru</td>\n",
              "      <td>NaN</td>\n",
              "      <td>1</td>\n",
              "      <td>furnished</td>\n",
              "    </tr>\n",
              "    <tr>\n",
              "      <th>3549</th>\n",
              "      <td>https://www.rumah123.com/properti/tangerang/ho...</td>\n",
              "      <td>7.850000e+08</td>\n",
              "      <td>Rumah Modern Asri dan Nyaman Bebas Banjir Loka...</td>\n",
              "      <td>Lengkong Kulon, Tangerang</td>\n",
              "      <td>Lengkong Kulon</td>\n",
              "      <td>Tangerang</td>\n",
              "      <td>-6.283454</td>\n",
              "      <td>106.638775</td>\n",
              "      <td>Masjid,  Keamanan,  Jogging Track,  Taman, Tem...</td>\n",
              "      <td>rumah</td>\n",
              "      <td>...</td>\n",
              "      <td>1300 mah</td>\n",
              "      <td>0</td>\n",
              "      <td>0</td>\n",
              "      <td>2.0</td>\n",
              "      <td>0.0</td>\n",
              "      <td>2022.0</td>\n",
              "      <td>baru</td>\n",
              "      <td>utara</td>\n",
              "      <td>0</td>\n",
              "      <td>unfurnished</td>\n",
              "    </tr>\n",
              "    <tr>\n",
              "      <th>3550</th>\n",
              "      <td>https://www.rumah123.com/properti/tangerang/ho...</td>\n",
              "      <td>7.550000e+08</td>\n",
              "      <td>Rumah Mewah Murah 2 Lantai Gratis Biaya Biaya ...</td>\n",
              "      <td>Lengkong Kulon, Tangerang</td>\n",
              "      <td>Lengkong Kulon</td>\n",
              "      <td>Tangerang</td>\n",
              "      <td>-6.283454</td>\n",
              "      <td>106.638775</td>\n",
              "      <td>Keamanan,  Taman, Jogging Track, Tempat Jemur...</td>\n",
              "      <td>rumah</td>\n",
              "      <td>...</td>\n",
              "      <td>1300 mah</td>\n",
              "      <td>0</td>\n",
              "      <td>0</td>\n",
              "      <td>2.0</td>\n",
              "      <td>0.0</td>\n",
              "      <td>2022.0</td>\n",
              "      <td>baru</td>\n",
              "      <td>utara</td>\n",
              "      <td>0</td>\n",
              "      <td>unfurnished</td>\n",
              "    </tr>\n",
              "    <tr>\n",
              "      <th>3551</th>\n",
              "      <td>https://www.rumah123.com/properti/tangerang/ho...</td>\n",
              "      <td>8.000000e+08</td>\n",
              "      <td>Rumah 2 Lantai Dekat Perkantoran BSD City AEON...</td>\n",
              "      <td>BSD Provance Parkland, Tangerang</td>\n",
              "      <td>BSD Provance Parkland</td>\n",
              "      <td>Tangerang</td>\n",
              "      <td>-6.288237</td>\n",
              "      <td>106.665859</td>\n",
              "      <td>Tempat Jemuran, Keamanan, Keamanan 24 jam, Was...</td>\n",
              "      <td>rumah</td>\n",
              "      <td>...</td>\n",
              "      <td>2200 mah</td>\n",
              "      <td>0</td>\n",
              "      <td>0</td>\n",
              "      <td>2.0</td>\n",
              "      <td>0.0</td>\n",
              "      <td>2022.0</td>\n",
              "      <td>baru</td>\n",
              "      <td>selatan</td>\n",
              "      <td>0</td>\n",
              "      <td>furnished</td>\n",
              "    </tr>\n",
              "    <tr>\n",
              "      <th>3552</th>\n",
              "      <td>https://www.rumah123.com/properti/tangerang/ho...</td>\n",
              "      <td>6.550000e+08</td>\n",
              "      <td>Rumah 2 Lantai Harga 1 Lantai Di Pamulang, Fre...</td>\n",
              "      <td>Sudimara, Tangerang</td>\n",
              "      <td>Sudimara</td>\n",
              "      <td>Tangerang</td>\n",
              "      <td>-6.296963</td>\n",
              "      <td>106.710635</td>\n",
              "      <td>Kulkas, Masjid,  Taman, Lapangan Bola, Tempat ...</td>\n",
              "      <td>rumah</td>\n",
              "      <td>...</td>\n",
              "      <td>1300 mah</td>\n",
              "      <td>0</td>\n",
              "      <td>0</td>\n",
              "      <td>2.0</td>\n",
              "      <td>0.0</td>\n",
              "      <td>2022.0</td>\n",
              "      <td>baru</td>\n",
              "      <td>timur</td>\n",
              "      <td>2</td>\n",
              "      <td>semi furnished</td>\n",
              "    </tr>\n",
              "  </tbody>\n",
              "</table>\n",
              "<p>3553 rows × 27 columns</p>\n",
              "</div>\n",
              "      <button class=\"colab-df-convert\" onclick=\"convertToInteractive('df-b8be1126-dccd-4dbe-b77c-8132b48ef030')\"\n",
              "              title=\"Convert this dataframe to an interactive table.\"\n",
              "              style=\"display:none;\">\n",
              "        \n",
              "  <svg xmlns=\"http://www.w3.org/2000/svg\" height=\"24px\"viewBox=\"0 0 24 24\"\n",
              "       width=\"24px\">\n",
              "    <path d=\"M0 0h24v24H0V0z\" fill=\"none\"/>\n",
              "    <path d=\"M18.56 5.44l.94 2.06.94-2.06 2.06-.94-2.06-.94-.94-2.06-.94 2.06-2.06.94zm-11 1L8.5 8.5l.94-2.06 2.06-.94-2.06-.94L8.5 2.5l-.94 2.06-2.06.94zm10 10l.94 2.06.94-2.06 2.06-.94-2.06-.94-.94-2.06-.94 2.06-2.06.94z\"/><path d=\"M17.41 7.96l-1.37-1.37c-.4-.4-.92-.59-1.43-.59-.52 0-1.04.2-1.43.59L10.3 9.45l-7.72 7.72c-.78.78-.78 2.05 0 2.83L4 21.41c.39.39.9.59 1.41.59.51 0 1.02-.2 1.41-.59l7.78-7.78 2.81-2.81c.8-.78.8-2.07 0-2.86zM5.41 20L4 18.59l7.72-7.72 1.47 1.35L5.41 20z\"/>\n",
              "  </svg>\n",
              "      </button>\n",
              "      \n",
              "  <style>\n",
              "    .colab-df-container {\n",
              "      display:flex;\n",
              "      flex-wrap:wrap;\n",
              "      gap: 12px;\n",
              "    }\n",
              "\n",
              "    .colab-df-convert {\n",
              "      background-color: #E8F0FE;\n",
              "      border: none;\n",
              "      border-radius: 50%;\n",
              "      cursor: pointer;\n",
              "      display: none;\n",
              "      fill: #1967D2;\n",
              "      height: 32px;\n",
              "      padding: 0 0 0 0;\n",
              "      width: 32px;\n",
              "    }\n",
              "\n",
              "    .colab-df-convert:hover {\n",
              "      background-color: #E2EBFA;\n",
              "      box-shadow: 0px 1px 2px rgba(60, 64, 67, 0.3), 0px 1px 3px 1px rgba(60, 64, 67, 0.15);\n",
              "      fill: #174EA6;\n",
              "    }\n",
              "\n",
              "    [theme=dark] .colab-df-convert {\n",
              "      background-color: #3B4455;\n",
              "      fill: #D2E3FC;\n",
              "    }\n",
              "\n",
              "    [theme=dark] .colab-df-convert:hover {\n",
              "      background-color: #434B5C;\n",
              "      box-shadow: 0px 1px 3px 1px rgba(0, 0, 0, 0.15);\n",
              "      filter: drop-shadow(0px 1px 2px rgba(0, 0, 0, 0.3));\n",
              "      fill: #FFFFFF;\n",
              "    }\n",
              "  </style>\n",
              "\n",
              "      <script>\n",
              "        const buttonEl =\n",
              "          document.querySelector('#df-b8be1126-dccd-4dbe-b77c-8132b48ef030 button.colab-df-convert');\n",
              "        buttonEl.style.display =\n",
              "          google.colab.kernel.accessAllowed ? 'block' : 'none';\n",
              "\n",
              "        async function convertToInteractive(key) {\n",
              "          const element = document.querySelector('#df-b8be1126-dccd-4dbe-b77c-8132b48ef030');\n",
              "          const dataTable =\n",
              "            await google.colab.kernel.invokeFunction('convertToInteractive',\n",
              "                                                     [key], {});\n",
              "          if (!dataTable) return;\n",
              "\n",
              "          const docLinkHtml = 'Like what you see? Visit the ' +\n",
              "            '<a target=\"_blank\" href=https://colab.research.google.com/notebooks/data_table.ipynb>data table notebook</a>'\n",
              "            + ' to learn more about interactive tables.';\n",
              "          element.innerHTML = '';\n",
              "          dataTable['output_type'] = 'display_data';\n",
              "          await google.colab.output.renderOutput(dataTable, element);\n",
              "          const docLink = document.createElement('div');\n",
              "          docLink.innerHTML = docLinkHtml;\n",
              "          element.appendChild(docLink);\n",
              "        }\n",
              "      </script>\n",
              "    </div>\n",
              "  </div>\n",
              "  "
            ]
          },
          "metadata": {},
          "execution_count": 2
        }
      ]
    },
    {
      "cell_type": "code",
      "source": [
        "#Missing values\n",
        "data.isna().sum()"
      ],
      "metadata": {
        "colab": {
          "base_uri": "https://localhost:8080/"
        },
        "id": "woeJsUtPEJVw",
        "outputId": "fb78d945-1b3f-4b7d-8af0-7705fb8f4b95"
      },
      "execution_count": 3,
      "outputs": [
        {
          "output_type": "execute_result",
          "data": {
            "text/plain": [
              "url                        0\n",
              "price_in_rp                0\n",
              "title                      0\n",
              "address                    0\n",
              "district                   0\n",
              "city                       0\n",
              "lat                        0\n",
              "long                       0\n",
              "facilities                 0\n",
              "property_type              1\n",
              "ads_id                     4\n",
              "bedrooms                  34\n",
              "bathrooms                 29\n",
              "land_size_m2               2\n",
              "building_size_m2           2\n",
              "carports                   0\n",
              "certificate              141\n",
              "electricity                0\n",
              "maid_bedrooms              0\n",
              "maid_bathrooms             0\n",
              "floors                     6\n",
              "building_age            1445\n",
              "year_built              1445\n",
              "property_condition       246\n",
              "building_orientation    1647\n",
              "garages                    0\n",
              "furnishing               387\n",
              "dtype: int64"
            ]
          },
          "metadata": {},
          "execution_count": 3
        }
      ]
    },
    {
      "cell_type": "code",
      "source": [
        "#persentase missing values\n",
        "data.isna().sum()/3533*100"
      ],
      "metadata": {
        "colab": {
          "base_uri": "https://localhost:8080/"
        },
        "id": "JqlS9desEP86",
        "outputId": "a6b2ca4d-1b46-4d11-fd9f-26d45a0871f2"
      },
      "execution_count": 4,
      "outputs": [
        {
          "output_type": "execute_result",
          "data": {
            "text/plain": [
              "url                      0.000000\n",
              "price_in_rp              0.000000\n",
              "title                    0.000000\n",
              "address                  0.000000\n",
              "district                 0.000000\n",
              "city                     0.000000\n",
              "lat                      0.000000\n",
              "long                     0.000000\n",
              "facilities               0.000000\n",
              "property_type            0.028305\n",
              "ads_id                   0.113218\n",
              "bedrooms                 0.962355\n",
              "bathrooms                0.820832\n",
              "land_size_m2             0.056609\n",
              "building_size_m2         0.056609\n",
              "carports                 0.000000\n",
              "certificate              3.990943\n",
              "electricity              0.000000\n",
              "maid_bedrooms            0.000000\n",
              "maid_bathrooms           0.000000\n",
              "floors                   0.169827\n",
              "building_age            40.900085\n",
              "year_built              40.900085\n",
              "property_condition       6.962921\n",
              "building_orientation    46.617605\n",
              "garages                  0.000000\n",
              "furnishing              10.953864\n",
              "dtype: float64"
            ]
          },
          "metadata": {},
          "execution_count": 4
        }
      ]
    },
    {
      "cell_type": "code",
      "source": [
        "data.info()"
      ],
      "metadata": {
        "id": "iFzCPMmjd_cr",
        "outputId": "f9540cc2-9dd6-4b6f-dbc8-34ed2228ab28",
        "colab": {
          "base_uri": "https://localhost:8080/"
        }
      },
      "execution_count": 5,
      "outputs": [
        {
          "output_type": "stream",
          "name": "stdout",
          "text": [
            "<class 'pandas.core.frame.DataFrame'>\n",
            "RangeIndex: 3553 entries, 0 to 3552\n",
            "Data columns (total 27 columns):\n",
            " #   Column                Non-Null Count  Dtype  \n",
            "---  ------                --------------  -----  \n",
            " 0   url                   3553 non-null   object \n",
            " 1   price_in_rp           3553 non-null   float64\n",
            " 2   title                 3553 non-null   object \n",
            " 3   address               3553 non-null   object \n",
            " 4   district              3553 non-null   object \n",
            " 5   city                  3553 non-null   object \n",
            " 6   lat                   3553 non-null   float64\n",
            " 7   long                  3553 non-null   float64\n",
            " 8   facilities            3553 non-null   object \n",
            " 9   property_type         3552 non-null   object \n",
            " 10  ads_id                3549 non-null   object \n",
            " 11  bedrooms              3519 non-null   float64\n",
            " 12  bathrooms             3524 non-null   float64\n",
            " 13  land_size_m2          3551 non-null   float64\n",
            " 14  building_size_m2      3551 non-null   float64\n",
            " 15  carports              3553 non-null   int64  \n",
            " 16  certificate           3412 non-null   object \n",
            " 17  electricity           3553 non-null   object \n",
            " 18  maid_bedrooms         3553 non-null   int64  \n",
            " 19  maid_bathrooms        3553 non-null   int64  \n",
            " 20  floors                3547 non-null   float64\n",
            " 21  building_age          2108 non-null   float64\n",
            " 22  year_built            2108 non-null   float64\n",
            " 23  property_condition    3307 non-null   object \n",
            " 24  building_orientation  1906 non-null   object \n",
            " 25  garages               3553 non-null   int64  \n",
            " 26  furnishing            3166 non-null   object \n",
            "dtypes: float64(10), int64(4), object(13)\n",
            "memory usage: 749.6+ KB\n"
          ]
        }
      ]
    },
    {
      "cell_type": "markdown",
      "source": [
        "1. Memetakan kota berdasarkan kualitas harganya\n",
        "note : visualisasikan grafik petanya berdasarkan lat dan long\n",
        "2. mempredikasi harga jual rumah\n",
        "3. bedakan kolom numerik dan kolom nonumerik\n",
        " roszi dan ameng analisis kolom numerik lek aku nonmuerik"
      ],
      "metadata": {
        "id": "NN4JYbI6W7Xn"
      }
    },
    {
      "cell_type": "markdown",
      "source": [
        "# Peta persebaran rumah yang dijual"
      ],
      "metadata": {
        "id": "T9x-W5RBdyNS"
      }
    },
    {
      "cell_type": "code",
      "source": [
        "import folium\n",
        "\n",
        "def create_map(latitude, longitude, map):\n",
        "    # Menambahkan penanda di lokasi yang diberikan\n",
        "    folium.Marker([latitude, longitude]).add_to(map)\n",
        "\n",
        "# Membuat objek peta\n",
        "map = folium.Map(location=[data['lat'].mean(), data['long'].mean()], zoom_start=12)\n",
        "\n",
        "# Melakukan perulangan untuk setiap baris pada dataset\n",
        "for index, row in data.iterrows():\n",
        "    # Memasukkan latitude dan longitude dari setiap baris\n",
        "    latitude = row['lat']\n",
        "    longitude = row['long']\n",
        "\n",
        "    # Memanggil fungsi untuk menambahkan penanda pada peta\n",
        "    create_map(latitude, longitude, map)\n",
        "\n",
        "# Menyimpan peta keseluruhan\n",
        "map.save('lokasi.html')"
      ],
      "metadata": {
        "id": "tUKArQuja0Nu"
      },
      "execution_count": 6,
      "outputs": []
    },
    {
      "cell_type": "code",
      "source": [
        "data.columns"
      ],
      "metadata": {
        "id": "_j0sO6QkbJB7",
        "outputId": "6b7d064f-e4e8-4f76-d331-2cc16e0876f6",
        "colab": {
          "base_uri": "https://localhost:8080/"
        }
      },
      "execution_count": 34,
      "outputs": [
        {
          "output_type": "execute_result",
          "data": {
            "text/plain": [
              "Index(['url', 'price_in_rp', 'title', 'address', 'district', 'city', 'lat',\n",
              "       'long', 'facilities', 'property_type', 'ads_id', 'bedrooms',\n",
              "       'bathrooms', 'land_size_m2', 'building_size_m2', 'carports',\n",
              "       'certificate', 'electricity', 'maid_bedrooms', 'maid_bathrooms',\n",
              "       'floors', 'building_age', 'year_built', 'property_condition',\n",
              "       'building_orientation', 'garages', 'furnishing'],\n",
              "      dtype='object')"
            ]
          },
          "metadata": {},
          "execution_count": 34
        }
      ]
    },
    {
      "cell_type": "markdown",
      "source": [
        "# Explore Data\n",
        "\n",
        "1. Mencari nilai unik dari tiap data kategorikal\n",
        "2. Mencari count dari tiap nilai unik\n",
        "3. mencari hubungan antar kolom"
      ],
      "metadata": {
        "id": "PZmyaAvQa_PD"
      }
    },
    {
      "cell_type": "code",
      "source": [
        "# Mendefinisikan kolom tipe kategorikal yang dibutuhkan\n",
        "kol_cat = data[['district', 'city', 'facilities', 'property_type', 'certificate', 'electricity', 'property_condition', 'building_orientation', 'furnishing']]"
      ],
      "metadata": {
        "id": "ya4cjb-Gdj8V"
      },
      "execution_count": 13,
      "outputs": []
    },
    {
      "cell_type": "markdown",
      "source": [
        "## Nilai unik tiap kolom kategori"
      ],
      "metadata": {
        "id": "h4xmYifITBCZ"
      }
    },
    {
      "cell_type": "code",
      "source": [
        "for kol in kol_cat:\n",
        "    unique_values = data[kol].unique()\n",
        "    print(f\"Nilai unik dari kolom {kol}:\")\n",
        "    print(unique_values)\n",
        "    print()"
      ],
      "metadata": {
        "id": "vKkDhOZ-RP-v",
        "outputId": "0932cfae-69ff-493f-f968-af2a13742ac6",
        "colab": {
          "base_uri": "https://localhost:8080/"
        }
      },
      "execution_count": 36,
      "outputs": [
        {
          "output_type": "stream",
          "name": "stdout",
          "text": [
            "Nilai unik dari kolom district:\n",
            "['Summarecon Bekasi' 'Bekasi' 'Setu' 'Harapan Indah' 'Bekasi Kota'\n",
            " 'Cibitung' 'Cibubur' 'Mustikajaya' 'Jatisampurna' 'Jatiwarna'\n",
            " 'Pondok Gede' 'Jaka Setia' 'Jati Asih' 'Grand Wisata' 'Jatibening'\n",
            " 'Bekasi Utara' 'Rawalumbu' 'Tambun Selatan' 'Harapan Baru' 'Pondokmelati'\n",
            " 'Babelan' 'Kemang Pratama' 'Jatiraden' 'Bekasi Timur' 'Jatiwaringin'\n",
            " 'Tarumajaya' 'Cikarang Selatan' 'Kebalen' 'Kayuringin Jaya' 'Bintara'\n",
            " 'Jatirangga' 'Cikarang' 'Jati Mekar' 'Duta Harapan' 'Jati Sari' 'Pejuang'\n",
            " 'Galaxy' 'Tanah Tinggi' 'Jaka Sampurna' 'Bekasi Barat' 'Tambun Utara'\n",
            " 'Kaliabang' 'Mustikasari' 'Cimuning' 'Caman' 'Cikunir' 'Satriajaya'\n",
            " 'Pondok Ungu' 'Pekayon' 'Harapan Mulya' 'Harapan Jaya' 'Perwira'\n",
            " 'Jatikramat' 'Jatimurni' 'Jatimelati' 'Karang Satria' 'Kranji'\n",
            " 'Margahayu' 'Serang Baru' 'Duren Jaya' 'Jati Luhur' 'Jababeka' 'Komsen'\n",
            " 'Jatiranggon' 'Narogong' 'Bantar Gebang' 'Jatimakmur' 'Jati Cempaka'\n",
            " 'Golden City' 'Pedurenan' 'Medan Satria' 'Pasirmulya' 'Cilendek Timur'\n",
            " 'Sentul City' 'Cileungsi' 'Kemang' 'Ciomas' 'Gunung Sindur' 'Bojong Gede'\n",
            " 'Kedung Halang' 'Tapos' 'Cibinong' 'Sentul' 'Sukaraja' 'Tanah Sareal'\n",
            " 'Ciparigi' 'Mulyaharja' 'Katulampa' 'Bogor Barat' 'Gunung Putri'\n",
            " 'Cilendek Barat' 'Tamansari' 'Kota Wisata' 'Bojongsari' 'Curug'\n",
            " 'Babakan Madang' 'Bojong' 'Cimahpar' 'Tanah Baru'\n",
            " 'Bogor Nirwana Residence' 'Tegallega' 'Parung Panjang' 'Cikeas' 'Parung'\n",
            " 'Cilebut' 'Baranangsiang' 'Dramaga' 'Rancamaya' 'Legenda Wisata'\n",
            " 'Bojong Kulur' 'Tajur Halang' 'Cipayung' 'Ciluar' 'Cipanas' 'Megamendung'\n",
            " 'Limusnunggal' 'Cijeruk' 'Citeureup' 'Ciapus' 'Tajur' 'Pasir Kuda'\n",
            " 'Ciawi' 'Karang Tengah' 'Bukit Sentul' 'Sindang Barang' 'Citaringgul'\n",
            " 'Bantar Jati' 'Cilendek' 'Pasirlaja' 'Semplak' 'Cibuluh' 'Kedungwaringin'\n",
            " 'Leuwinanggung' 'Kedungbadak' 'Sukamaju' 'Sukatani' 'Harjamukti' 'Sempur'\n",
            " 'Pamoyanan' 'Pabaton' 'Ciseeng' 'Jonggol' 'Ciampea' 'Laladon'\n",
            " 'Rangga Mekar' 'Tegal Gundi' 'Batutulis' 'Ciangsana' 'Puncak' 'Cisarua'\n",
            " 'Cimangu' 'Kranggan' 'Taman Kencana' 'Cikaret' 'Tenjo' 'Gadog' 'Rumpin'\n",
            " 'Pancoran Mas' 'Kelapa Dua' 'Cimanggis' 'Citayam' 'Cinangka'\n",
            " 'Bojong Sari' 'Cilodong' 'Limo' 'Sukmajaya' 'Rangkapanjaya' 'Cinere'\n",
            " 'Pangkalan Jati' 'Sawangan' 'Beji' 'Margonda' 'Depok II' 'Krukut'\n",
            " 'Kukusan' 'Cisalak' 'Cilangkap' 'Tirtajaya' 'Gandul' 'Jelambar'\n",
            " 'Jagakarsa' 'Bintaro' 'Kebagusan' 'Pantai Indah Kapuk' 'Green Ville'\n",
            " 'Puri Indah' 'Kembangan' 'Permata Hijau' 'Meruya' 'Utan Kayu'\n",
            " 'Green Lake City' 'Kalibata' 'Cakung' 'Cipete' 'Kebayoran Baru'\n",
            " 'Cempaka Putih' 'Ampera' 'Jati Padang' 'Permata Buana' 'Pos Pengumben'\n",
            " 'Palmerah' 'Pantai Mutiara' 'Puri Mansion' 'Tanjung Duren'\n",
            " 'Taman Grisenda' 'Intercon' 'Menteng' 'Rawamangun' 'Kelapa Gading'\n",
            " 'Cipinang' 'Angke' 'Gandaria' 'Pulo Gadung' 'Pondok Indah' 'Kebon Jeruk'\n",
            " 'Muara Karang' 'Jatinegara' 'Pasar Rebo' 'Senopati' 'Matraman'\n",
            " 'Kemayoran' 'Cikini' 'Mampang Prapatan' 'Pasar Minggu' 'Pejaten'\n",
            " 'Ciganjur' 'Lebak Bulus' 'Cilandak' 'Kota Bambu Utara' 'Pluit' 'Senen'\n",
            " 'Pasar Baru' 'Tomang' 'Metland Puri' 'Duren Sawit' 'Kembangan Selatan'\n",
            " 'Duri Kepa' 'Metro permata' 'Citra Garden' 'Tanjung Priok' 'Sumur Batu'\n",
            " 'Slipi' 'Kalideres' 'Pondok Kelapa' 'Pondok Bambu' 'Taman Palem'\n",
            " 'Kebayoran Lama' 'Bendungan Hilir' 'Cawang' 'Duri Kosambi' 'Koja'\n",
            " 'Lubang Buaya' 'Gatot Subroto' 'Ciracas' 'Taman Ratu' 'patra kuningan'\n",
            " 'Antasari' 'Sunrise Garden' 'Tanah Kusir' 'Tebet' 'Simprug' 'Senayan'\n",
            " 'Puri Media' 'Mangga Besar' 'Joglo' 'Tanjung Barat' 'Pengadegan'\n",
            " 'Pancoran' 'Bangka' 'Tambora' 'Duren Tiga' 'Pulomas' 'Grogol' 'Sunter'\n",
            " 'Daan Mogot' 'Kedoya Utara' 'Menteng Atas' 'Setiabudi' 'Kramat Jati'\n",
            " 'TB Simatupang' 'Cengkareng' 'Kayu Putih' 'Bojong Indah' 'Fatmawati'\n",
            " 'Ragunan' 'Radio Dalam' 'Raffles Hills' 'Sektor 3A-Bintaro' 'Petojo'\n",
            " 'Green garden' 'Pinang Ranti' 'Taman Meruya' 'Alam Sutera'\n",
            " 'Gading Serpong' 'BSD City' 'BSD The Icon' 'BSD Kencana Loka'\n",
            " 'BSD Delatinos' 'Cikupa Citra Raya' 'BSD' 'Pinang' 'Ciledug' 'Rawakalong'\n",
            " 'Sindang Jaya' 'Cisauk' 'Pagedangan' 'Karawaci' 'Cikokol' 'Cibodas'\n",
            " 'Panongan' 'Cikupa' 'BSD De Park' 'Serua' 'Lippo Karawaci' 'Cipondoh'\n",
            " 'Tangerang Kota' 'Pondok Cabe' 'Graha Raya' 'Gading Serpong IL Lago'\n",
            " 'BSD Green Wich' 'BSD Giri Loka' 'BSD Eminent' 'Larangan' 'BSD Foresta'\n",
            " 'Modernland' 'BSD Nusaloka' 'Poris' 'Cipadu' 'Batu Ceper' 'Pengasinan'\n",
            " 'BSD Sevilla' 'Rempoa' 'Sutera Sitara Alam Sutera' 'BSD Taman Giri Loka'\n",
            " 'Pasar Kemis' 'BSD Graha Raya' 'Pesanggrahan' 'Bitung'\n",
            " 'Gading Serpong Pondok Hijau Golf' 'Ciater' 'Parigi' 'Tigaraksa'\n",
            " 'Gading Serpong Andalucia' 'Gading Serpong The Spring' 'Banjar Wijaya'\n",
            " 'Cireundeu' 'BSD Griya Loka' 'Balaraja' 'BSD Telaga Golf'\n",
            " 'BSD Puspita Loka' 'Sutera Onix Alam Sutera' 'Pondok Benda' 'Bakti Jaya'\n",
            " 'BSD Residence One' 'Jatake' 'Kresek' 'Kreo' 'Sepatan' 'Metro Permata'\n",
            " 'Cihuni' 'Pondok Betung' 'BSD The Green' 'Gading Serpong Scientia Garden'\n",
            " 'BSD Bukit Golf' 'BSD Duta Bintaro' 'BSD Green Cove' 'Duta Garden'\n",
            " 'Jelupang' 'BSD Avani' 'Gading Serpong L Agricola'\n",
            " 'Gading Serpong Samara Village' 'Rajeg' 'Benda' 'BSD Anggrek Loka'\n",
            " 'Cimone' 'Babakan' 'Jombang' 'Lengkong Kulon' 'BSD Provance Parkland'\n",
            " 'Sudimara']\n",
            "\n",
            "Nilai unik dari kolom city:\n",
            "[' Bekasi' ' Bogor' ' Depok' ' Jakarta Barat' ' Jakarta Selatan'\n",
            " ' Jakarta Utara' ' Jakarta Timur' ' Jakarta Pusat' ' Tangerang']\n",
            "\n",
            "Nilai unik dari kolom facilities:\n",
            "['Tempat Jemuran, Jalur Telepon, Taman,  Taman' 'Taman'\n",
            " ' Jogging Track,  Kolam Renang, Masjid,  Taman, Jalur Telepon,  Keamanan'\n",
            " ...\n",
            " ' Taman, Tempat Jemuran, Jalur Telepon, One Gate System, Keamanan 24 jam, AC, Wastafel,  Playground'\n",
            " 'Masjid,  Taman, Tempat Jemuran, Keamanan 24 jam, AC, Wastafel,  CCTV, Track Lari, Taman,  One Gate System'\n",
            " 'Masjid,  Keamanan,  Jogging Track,  Taman, Tempat Jemuran, Jalur Telepon, Keamanan 24 jam,  Masjid, Track Lari, Taman,  One Gate System']\n",
            "\n",
            "Nilai unik dari kolom property_type:\n",
            "['rumah' nan]\n",
            "\n",
            "Nilai unik dari kolom certificate:\n",
            "['shm - sertifikat hak milik' 'hgb - hak guna bangunan'\n",
            " 'lainnya (ppjb,girik,adat,dll)' nan 'hp - hak pakai']\n",
            "\n",
            "Nilai unik dari kolom electricity:\n",
            "['4400 mah' '2200 mah' '3500 mah' '1300 mah' 'lainnya mah' '5500 mah'\n",
            " '6600 mah' '7700 mah' '3300 mah' '7600 mah' '10600 mah' '900 mah'\n",
            " '47500 mah' '11000 mah' '8000 mah' '450 mah' '10000 mah' '53000 mah'\n",
            " '16500 mah' '13200 mah' '13900 mah' '17600 mah' '23000 mah' '41500 mah'\n",
            " '12700 mah' '13300 mah' '33000 mah' '24000 mah' '22000 mah' '9500 mah']\n",
            "\n",
            "Nilai unik dari kolom property_condition:\n",
            "['bagus' 'bagus sekali' nan 'baru' 'sudah renovasi' 'butuh renovasi'\n",
            " 'semi furnished' 'unfurnished']\n",
            "\n",
            "Nilai unik dari kolom building_orientation:\n",
            "[nan 'utara' 'selatan' 'timur' 'barat' 'barat laut' 'barat daya'\n",
            " 'tenggara' 'timur laut']\n",
            "\n",
            "Nilai unik dari kolom furnishing:\n",
            "['unfurnished' nan 'semi furnished' 'furnished' 'baru']\n",
            "\n"
          ]
        }
      ]
    },
    {
      "cell_type": "markdown",
      "source": [
        "## Hubungan dari tiap kolom"
      ],
      "metadata": {
        "id": "4IdM-Un9TVo9"
      }
    },
    {
      "cell_type": "markdown",
      "source": [
        "1. Perbandingan antara kelengkapan furnish dan harga"
      ],
      "metadata": {
        "id": "YxVlYV_7cKx5"
      }
    },
    {
      "cell_type": "code",
      "source": [
        "# Menghitung rata-rata harga berdasarkan furnishing\n",
        "rata_harga_furnish = data.groupby('furnishing')['price_in_rp'].mean().reset_index()\n",
        "\n",
        "# Mengurutkan berdasarkan harga rata-rata secara menurun\n",
        "rata_harga_furnish = rata_harga_furnish.sort_values('price_in_rp', ascending=False)\n",
        "\n",
        "# Membuat bar plot\n",
        "plt.figure(figsize=(8, 6))\n",
        "sns.barplot(x='furnishing', y='price_in_rp', data=rata_harga_furnish)\n",
        "plt.xlabel('Furnishing')\n",
        "plt.ylabel('Rata-rata Harga')\n",
        "plt.title('Perbandingan Rata-rata Harga berdasarkan Kelengkapan Furnish')\n",
        "plt.xticks(rotation=90)\n",
        "\n",
        "# Menambahkan anotasi pada setiap bar\n",
        "for i, p in enumerate(plt.gca().patches):\n",
        "    plt.gca().annotate(format(p.get_height(), '.2f'),\n",
        "                       (p.get_x() + p.get_width() / 2., p.get_height()),\n",
        "                       ha='center',\n",
        "                       va='center',\n",
        "                       xytext=(0, 10),\n",
        "                       textcoords='offset points')\n",
        "plt.show()"
      ],
      "metadata": {
        "colab": {
          "base_uri": "https://localhost:8080/",
          "height": 653
        },
        "id": "FD1V19g3dX3T",
        "outputId": "3bfea659-371b-4d1e-dbb0-13362ee56759"
      },
      "execution_count": 55,
      "outputs": [
        {
          "output_type": "display_data",
          "data": {
            "text/plain": [
              "<Figure size 800x600 with 1 Axes>"
            ],
            "image/png": "[encoded data removed]"
          },
          "metadata": {}
        }
      ]
    },
    {
      "cell_type": "markdown",
      "source": [
        "Didaptkan hasil bahwa rata-rata harga rumah dengan kelengkapan furnish yang lengkap **lebih mahal** harga nya dibandingkan dengan yang lain. Tetapi **perbedaan harga** antara full furnish dan semi furnish tidak terlalu jauh. Hal tersebut dapat menjadi pertimbangan ketika memilih rumah."
      ],
      "metadata": {
        "id": "Ma3YqX_Vd4Qr"
      }
    },
    {
      "cell_type": "markdown",
      "source": [
        "2. rata - rata jumlah kamar mandi"
      ],
      "metadata": {
        "id": "5C19uwMRhZWo"
      }
    },
    {
      "cell_type": "code",
      "source": [
        "rata_kamarmandi = data['bathrooms'].mean()\n",
        "print(f\"Rata-rata jumlah kamar mandi dari rumah yang dijual: {rata_kamarmandi}\")"
      ],
      "metadata": {
        "id": "8NWW4UcxhaOt",
        "outputId": "2dd8c45b-7f89-4f66-ec6a-9c152f65ee7f",
        "colab": {
          "base_uri": "https://localhost:8080/"
        }
      },
      "execution_count": 41,
      "outputs": [
        {
          "output_type": "stream",
          "name": "stdout",
          "text": [
            "Rata-rata jumlah kamar mandi dari rumah yang dijual: 2.6248581157775255\n"
          ]
        }
      ]
    },
    {
      "cell_type": "markdown",
      "source": [
        "Rata-rata jumlah kamar mandi dalam rumah yang dijual adalah 2,6 atau 2 hingga 3 kamar mandi tiap rumah."
      ],
      "metadata": {
        "id": "-ymw9FTBiELw"
      }
    },
    {
      "cell_type": "code",
      "source": [
        "min_kamarmandi = data['bathrooms'].min()\n",
        "print(f\"Jumlah kamar mandi minimal di tiap rumah: {min_kamarmandi}\")"
      ],
      "metadata": {
        "id": "81DUpDyVh3ae",
        "outputId": "e7ecd30d-2210-4a8c-8faf-e616b846ebf8",
        "colab": {
          "base_uri": "https://localhost:8080/"
        }
      },
      "execution_count": 43,
      "outputs": [
        {
          "output_type": "stream",
          "name": "stdout",
          "text": [
            "Jumlah kamar mandi minimal di tiap rumah: 1.0\n"
          ]
        }
      ]
    },
    {
      "cell_type": "markdown",
      "source": [
        "Walaupun didapatkan rata-rata jumlah kamar mandi 2,6 tiap rumah. Jumlah kamar mandi minimal tiap rumah adalah 1 buah."
      ],
      "metadata": {
        "id": "j8VHLyFYiAMu"
      }
    },
    {
      "cell_type": "markdown",
      "source": [
        "3. rata - rata jumlah kamar tidur"
      ],
      "metadata": {
        "id": "WjMOqK6MjE0J"
      }
    },
    {
      "cell_type": "code",
      "source": [
        "rata_kamartidur = data['bedrooms'].mean()\n",
        "print(f\"Rata-rata jumlah kamar tidur dari rumah yang dijual: {rata_kamartidur}\")"
      ],
      "metadata": {
        "id": "YOQ7s2E6jEcc",
        "outputId": "ddf831a2-cba4-4c36-ca7b-0447ac6b7034",
        "colab": {
          "base_uri": "https://localhost:8080/"
        }
      },
      "execution_count": 45,
      "outputs": [
        {
          "output_type": "stream",
          "name": "stdout",
          "text": [
            "Rata-rata jumlah kamar tidur dari rumah yang dijual: 3.3265132139812446\n"
          ]
        }
      ]
    },
    {
      "cell_type": "markdown",
      "source": [
        "Rata-rata jumlah kamar tidur dalam rumah yang dijual adalah 3,3 atau dibulatkan menjadi 3. Sehingga rata-rata tiap rumah memiliki 3 kamar tidur"
      ],
      "metadata": {
        "id": "A9cKvvcXk-20"
      }
    },
    {
      "cell_type": "code",
      "source": [
        "min_kamartidur = data['bedrooms'].min()\n",
        "print(f\"Jumlah kamar tidur minimal di tiap rumah: {min_kamartidur}\")"
      ],
      "metadata": {
        "id": "d8uPTcBQkqG8",
        "outputId": "fd749143-c0fa-43ab-f7ce-5fb26e7559cf",
        "colab": {
          "base_uri": "https://localhost:8080/"
        }
      },
      "execution_count": 46,
      "outputs": [
        {
          "output_type": "stream",
          "name": "stdout",
          "text": [
            "Jumlah kamar tidur minimal di tiap rumah: 1.0\n"
          ]
        }
      ]
    },
    {
      "cell_type": "markdown",
      "source": [
        "Jumlah kamar mandi paling sedikit tiap rumah adalah 1 buah."
      ],
      "metadata": {
        "id": "t-yViIyJlDyB"
      }
    },
    {
      "cell_type": "markdown",
      "source": [
        "4. Rata-rata jumlah kamar tidur ART"
      ],
      "metadata": {
        "id": "S671enjUoWDQ"
      }
    },
    {
      "cell_type": "code",
      "source": [
        "rata_kamartidur_art = data['maid_bedrooms'].mean()\n",
        "print(f\"Rata-rata jumlah kamar tidur ART dari rumah yang dijual: {rata_kamartidur_art}\")"
      ],
      "metadata": {
        "id": "2jH-I1l_obj2",
        "outputId": "4a7ce537-543e-4c4d-a552-c91adb384467",
        "colab": {
          "base_uri": "https://localhost:8080/"
        }
      },
      "execution_count": 47,
      "outputs": [
        {
          "output_type": "stream",
          "name": "stdout",
          "text": [
            "Rata-rata jumlah kamar tidur ART dari rumah yang dijual: 0.49648184632704756\n"
          ]
        }
      ]
    },
    {
      "cell_type": "markdown",
      "source": [
        "Didapatkan hasil rata rata yang sangat sedikit, yaitu dibawah 0,5 maka terdapat rumah yang tidak menyediakan kamar tidur untuk ART"
      ],
      "metadata": {
        "id": "d4jZ5DpdqrmF"
      }
    },
    {
      "cell_type": "code",
      "source": [
        "min_kamartidur_art = data['maid_bedrooms'].min()\n",
        "max_kamartidur_art = data['maid_bedrooms'].max()\n",
        "print(f\"Rentang jumlah kamar tidur ART di tiap rumah: {min_kamartidur_art} - {max_kamartidur_art}\")"
      ],
      "metadata": {
        "id": "0Zrt0OyxpEtT",
        "outputId": "3773eb28-c346-4d80-ccf8-47c55fccd767",
        "colab": {
          "base_uri": "https://localhost:8080/"
        }
      },
      "execution_count": 49,
      "outputs": [
        {
          "output_type": "stream",
          "name": "stdout",
          "text": [
            "Rentang jumlah kamar tidur ART di tiap rumah: 0 - 7\n"
          ]
        }
      ]
    },
    {
      "cell_type": "markdown",
      "source": [
        "Didapatkan hasil bahwa jumlah kamar tidur untuk ART di rentang 0-7 buah"
      ],
      "metadata": {
        "id": "07LZ_g2hsf4I"
      }
    },
    {
      "cell_type": "markdown",
      "source": [
        "5. Rata-rata jumlah kamar mandi ART"
      ],
      "metadata": {
        "id": "KC3nqZeJqDMp"
      }
    },
    {
      "cell_type": "code",
      "source": [
        "rata_kamarmandi_art = data['maid_bathrooms'].mean()\n",
        "print(f\"Rata-rata jumlah kamar mandi ART dari rumah yang dijual: {rata_kamarmandi_art}\")"
      ],
      "metadata": {
        "id": "dWPEMaK5qCW3",
        "outputId": "96f22144-aec8-4548-cc92-2263bee6b5f3",
        "colab": {
          "base_uri": "https://localhost:8080/"
        }
      },
      "execution_count": 50,
      "outputs": [
        {
          "output_type": "stream",
          "name": "stdout",
          "text": [
            "Rata-rata jumlah kamar mandi ART dari rumah yang dijual: 0.37039121868843233\n"
          ]
        }
      ]
    },
    {
      "cell_type": "markdown",
      "source": [
        "Didapatkan hasil rata rata yang sangat sedikit, yaitu dibawah 0,5 maka terdapat rumah yang tidak menyediakan kamar mandi untuk ART"
      ],
      "metadata": {
        "id": "cPOalVGgrT2_"
      }
    },
    {
      "cell_type": "code",
      "source": [
        "min_kamarmandi_art = data['maid_bathrooms'].min()\n",
        "max_kamarmandi_art = data['maid_bathrooms'].max()\n",
        "print(f\"Rentang jumlah kamar tidur ART di tiap rumah: {min_kamarmandi_art} - {max_kamarmandi_art}\")"
      ],
      "metadata": {
        "id": "L_YN6cTOqfVN",
        "outputId": "1303f868-8e0f-4433-9bd7-eb0cc888f1b3",
        "colab": {
          "base_uri": "https://localhost:8080/"
        }
      },
      "execution_count": 51,
      "outputs": [
        {
          "output_type": "stream",
          "name": "stdout",
          "text": [
            "Rentang jumlah kamar tidur ART di tiap rumah: 0 - 5\n"
          ]
        }
      ]
    },
    {
      "cell_type": "markdown",
      "source": [
        "Didapatkan hasil bahwa jumlah kamar mandi untuk ART di rentang 0-5 buah"
      ],
      "metadata": {
        "id": "UxstNanlr29X"
      }
    },
    {
      "cell_type": "markdown",
      "source": [
        "6. Perbandingan antara kelengkapan sertifikat bangunan dan harga"
      ],
      "metadata": {
        "id": "TyqxagH1tlr5"
      }
    },
    {
      "cell_type": "code",
      "source": [
        "# Menghitung rata-rata harga berdasarkan sertifikat bangunan\n",
        "rata_price_sertifikat = data.groupby('certificate')['price_in_rp'].mean().reset_index()\n",
        "\n",
        "# Mengurutkan berdasarkan harga rata-rata secara menurun\n",
        "rata_price_sertifikat = rata_price_sertifikat.sort_values('price_in_rp', ascending=False)\n",
        "\n",
        "# Membuat bar plot\n",
        "plt.figure(figsize=(8, 6))\n",
        "sns.barplot(x='certificate', y='price_in_rp', data=rata_price_sertifikat)\n",
        "plt.xlabel('Sertifikat bangunan')\n",
        "plt.ylabel('Rata-rata Harga')\n",
        "plt.title('Perbandingan Rata-rata Harga berdasarkan Kelengkapan Furnish')\n",
        "plt.xticks(rotation=90)\n",
        "\n",
        "# Menambahkan anotasi pada setiap bar\n",
        "for i, p in enumerate(plt.gca().patches):\n",
        "    plt.gca().annotate(format(p.get_height(), '.2f'),\n",
        "                       (p.get_x() + p.get_width() / 2., p.get_height()),\n",
        "                       ha='center',\n",
        "                       va='center',\n",
        "                       xytext=(0, 10),\n",
        "                       textcoords='offset points')\n",
        "plt.show()"
      ],
      "metadata": {
        "id": "I1dzH-rFtmDE",
        "outputId": "06024574-091d-4bec-e9ea-fe32c656c18f",
        "colab": {
          "base_uri": "https://localhost:8080/",
          "height": 739
        }
      },
      "execution_count": 54,
      "outputs": [
        {
          "output_type": "display_data",
          "data": {
            "text/plain": [
              "<Figure size 800x600 with 1 Axes>"
            ],
            "image/png": "[encoded data removed]"
          },
          "metadata": {}
        }
      ]
    }
  ]
}