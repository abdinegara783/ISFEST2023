{
  "nbformat": 4,
  "nbformat_minor": 0,
  "metadata": {
    "colab": {
      "provenance": [],
      "authorship_tag": "ABX9TyMzsNfN1rtiuF7ru3gzWlop",
      "include_colab_link": true
    },
    "kernelspec": {
      "name": "python3",
      "display_name": "Python 3"
    },
    "language_info": {
      "name": "python"
    }
  },
  "cells": [
    {
      "cell_type": "markdown",
      "metadata": {
        "id": "view-in-github",
        "colab_type": "text"
      },
      "source": [
        "<a href=\"https://colab.research.google.com/github/abdinegara783/ISFEST2023/blob/main/ISFEST_Abdi.ipynb\" target=\"_parent\"><img src=\"https://colab.research.google.com/assets/colab-badge.svg\" alt=\"Open In Colab\"/></a>"
      ]
    },
    {
      "cell_type": "code",
      "execution_count": 1,
      "metadata": {
        "id": "3j8VVujwmDSc"
      },
      "outputs": [],
      "source": [
        "import pandas as pd"
      ]
    },
    {
      "cell_type": "code",
      "source": [
        "df=pd.read_csv('/content/jabodetabek_house_price.csv')"
      ],
      "metadata": {
        "id": "IL63GBt-n5Cg"
      },
      "execution_count": 2,
      "outputs": []
    },
    {
      "cell_type": "code",
      "source": [
        "df.head(5)"
      ],
      "metadata": {
        "colab": {
          "base_uri": "https://localhost:8080/",
          "height": 681
        },
        "id": "RL57gSCNn-lG",
        "outputId": "9ac8f982-0b00-4ccc-e7ce-8770630d9b55"
      },
      "execution_count": 3,
      "outputs": [
        {
          "output_type": "execute_result",
          "data": {
            "text/plain": [
              "                                                 url   price_in_rp  \\\n",
              "0  https://www.rumah123.com/properti/bekasi/hos11...  2.990000e+09   \n",
              "1  https://www.rumah123.com/properti/bekasi/hos10...  1.270000e+09   \n",
              "2  https://www.rumah123.com/properti/bekasi/hos10...  1.950000e+09   \n",
              "3  https://www.rumah123.com/properti/bekasi/hos10...  3.300000e+09   \n",
              "4  https://www.rumah123.com/properti/bekasi/hos10...  4.500000e+09   \n",
              "\n",
              "                                               title  \\\n",
              "0  Rumah cantik Sumarecon Bekasi\\nLingkungan asri...   \n",
              "1          Rumah Kekinian, Magenta Summarecon Bekasi   \n",
              "2  Rumah Cantik 2 Lantai Cluster Bluebell Summare...   \n",
              "3  Rumah Mewah 2Lantai L10x18 C di Cluster VERNON...   \n",
              "4  Rumah Hoek di Cluster Maple Summarecon Bekasi,...   \n",
              "\n",
              "                     address           district     city       lat  \\\n",
              "0  Summarecon Bekasi, Bekasi  Summarecon Bekasi   Bekasi -6.223945   \n",
              "1  Summarecon Bekasi, Bekasi  Summarecon Bekasi   Bekasi -6.223945   \n",
              "2  Summarecon Bekasi, Bekasi  Summarecon Bekasi   Bekasi -6.223945   \n",
              "3  Summarecon Bekasi, Bekasi  Summarecon Bekasi   Bekasi -6.223945   \n",
              "4  Summarecon Bekasi, Bekasi  Summarecon Bekasi   Bekasi -6.223945   \n",
              "\n",
              "         long                                         facilities  \\\n",
              "0  106.986275       Tempat Jemuran, Jalur Telepon, Taman,  Taman   \n",
              "1  106.986275                                              Taman   \n",
              "2  106.986275   Jogging Track,  Kolam Renang, Masjid,  Taman,...   \n",
              "3  106.986275   Jalur Telepon,  Jogging Track, Track Lari,  K...   \n",
              "4  106.986275   Jogging Track,  Kolam Renang, Taman, Jalur Te...   \n",
              "\n",
              "  property_type  ... electricity  maid_bedrooms  maid_bathrooms  floors  \\\n",
              "0         rumah  ...    4400 mah              0               1     2.0   \n",
              "1         rumah  ...    2200 mah              0               0     2.0   \n",
              "2         rumah  ...    2200 mah              1               1     2.0   \n",
              "3         rumah  ...    3500 mah              1               1     2.0   \n",
              "4         rumah  ...    3500 mah              1               1     2.0   \n",
              "\n",
              "   building_age  year_built property_condition building_orientation  garages  \\\n",
              "0           5.0      2017.0              bagus                  NaN        0   \n",
              "1           NaN         NaN              bagus                  NaN        0   \n",
              "2           NaN         NaN              bagus                  NaN        1   \n",
              "3           6.0      2016.0       bagus sekali                utara        2   \n",
              "4           9.0      2013.0              bagus                utara        1   \n",
              "\n",
              "    furnishing  \n",
              "0  unfurnished  \n",
              "1          NaN  \n",
              "2  unfurnished  \n",
              "3  unfurnished  \n",
              "4  unfurnished  \n",
              "\n",
              "[5 rows x 27 columns]"
            ],
            "text/html": [
              "\n",
              "  <div id=\"df-79fc8153-9291-4e45-88df-3267473811c6\">\n",
              "    <div class=\"colab-df-container\">\n",
              "      <div>\n",
              "<style scoped>\n",
              "    .dataframe tbody tr th:only-of-type {\n",
              "        vertical-align: middle;\n",
              "    }\n",
              "\n",
              "    .dataframe tbody tr th {\n",
              "        vertical-align: top;\n",
              "    }\n",
              "\n",
              "    .dataframe thead th {\n",
              "        text-align: right;\n",
              "    }\n",
              "</style>\n",
              "<table border=\"1\" class=\"dataframe\">\n",
              "  <thead>\n",
              "    <tr style=\"text-align: right;\">\n",
              "      <th></th>\n",
              "      <th>url</th>\n",
              "      <th>price_in_rp</th>\n",
              "      <th>title</th>\n",
              "      <th>address</th>\n",
              "      <th>district</th>\n",
              "      <th>city</th>\n",
              "      <th>lat</th>\n",
              "      <th>long</th>\n",
              "      <th>facilities</th>\n",
              "      <th>property_type</th>\n",
              "      <th>...</th>\n",
              "      <th>electricity</th>\n",
              "      <th>maid_bedrooms</th>\n",
              "      <th>maid_bathrooms</th>\n",
              "      <th>floors</th>\n",
              "      <th>building_age</th>\n",
              "      <th>year_built</th>\n",
              "      <th>property_condition</th>\n",
              "      <th>building_orientation</th>\n",
              "      <th>garages</th>\n",
              "      <th>furnishing</th>\n",
              "    </tr>\n",
              "  </thead>\n",
              "  <tbody>\n",
              "    <tr>\n",
              "      <th>0</th>\n",
              "      <td>https://www.rumah123.com/properti/bekasi/hos11...</td>\n",
              "      <td>2.990000e+09</td>\n",
              "      <td>Rumah cantik Sumarecon Bekasi\\nLingkungan asri...</td>\n",
              "      <td>Summarecon Bekasi, Bekasi</td>\n",
              "      <td>Summarecon Bekasi</td>\n",
              "      <td>Bekasi</td>\n",
              "      <td>-6.223945</td>\n",
              "      <td>106.986275</td>\n",
              "      <td>Tempat Jemuran, Jalur Telepon, Taman,  Taman</td>\n",
              "      <td>rumah</td>\n",
              "      <td>...</td>\n",
              "      <td>4400 mah</td>\n",
              "      <td>0</td>\n",
              "      <td>1</td>\n",
              "      <td>2.0</td>\n",
              "      <td>5.0</td>\n",
              "      <td>2017.0</td>\n",
              "      <td>bagus</td>\n",
              "      <td>NaN</td>\n",
              "      <td>0</td>\n",
              "      <td>unfurnished</td>\n",
              "    </tr>\n",
              "    <tr>\n",
              "      <th>1</th>\n",
              "      <td>https://www.rumah123.com/properti/bekasi/hos10...</td>\n",
              "      <td>1.270000e+09</td>\n",
              "      <td>Rumah Kekinian, Magenta Summarecon Bekasi</td>\n",
              "      <td>Summarecon Bekasi, Bekasi</td>\n",
              "      <td>Summarecon Bekasi</td>\n",
              "      <td>Bekasi</td>\n",
              "      <td>-6.223945</td>\n",
              "      <td>106.986275</td>\n",
              "      <td>Taman</td>\n",
              "      <td>rumah</td>\n",
              "      <td>...</td>\n",
              "      <td>2200 mah</td>\n",
              "      <td>0</td>\n",
              "      <td>0</td>\n",
              "      <td>2.0</td>\n",
              "      <td>NaN</td>\n",
              "      <td>NaN</td>\n",
              "      <td>bagus</td>\n",
              "      <td>NaN</td>\n",
              "      <td>0</td>\n",
              "      <td>NaN</td>\n",
              "    </tr>\n",
              "    <tr>\n",
              "      <th>2</th>\n",
              "      <td>https://www.rumah123.com/properti/bekasi/hos10...</td>\n",
              "      <td>1.950000e+09</td>\n",
              "      <td>Rumah Cantik 2 Lantai Cluster Bluebell Summare...</td>\n",
              "      <td>Summarecon Bekasi, Bekasi</td>\n",
              "      <td>Summarecon Bekasi</td>\n",
              "      <td>Bekasi</td>\n",
              "      <td>-6.223945</td>\n",
              "      <td>106.986275</td>\n",
              "      <td>Jogging Track,  Kolam Renang, Masjid,  Taman,...</td>\n",
              "      <td>rumah</td>\n",
              "      <td>...</td>\n",
              "      <td>2200 mah</td>\n",
              "      <td>1</td>\n",
              "      <td>1</td>\n",
              "      <td>2.0</td>\n",
              "      <td>NaN</td>\n",
              "      <td>NaN</td>\n",
              "      <td>bagus</td>\n",
              "      <td>NaN</td>\n",
              "      <td>1</td>\n",
              "      <td>unfurnished</td>\n",
              "    </tr>\n",
              "    <tr>\n",
              "      <th>3</th>\n",
              "      <td>https://www.rumah123.com/properti/bekasi/hos10...</td>\n",
              "      <td>3.300000e+09</td>\n",
              "      <td>Rumah Mewah 2Lantai L10x18 C di Cluster VERNON...</td>\n",
              "      <td>Summarecon Bekasi, Bekasi</td>\n",
              "      <td>Summarecon Bekasi</td>\n",
              "      <td>Bekasi</td>\n",
              "      <td>-6.223945</td>\n",
              "      <td>106.986275</td>\n",
              "      <td>Jalur Telepon,  Jogging Track, Track Lari,  K...</td>\n",
              "      <td>rumah</td>\n",
              "      <td>...</td>\n",
              "      <td>3500 mah</td>\n",
              "      <td>1</td>\n",
              "      <td>1</td>\n",
              "      <td>2.0</td>\n",
              "      <td>6.0</td>\n",
              "      <td>2016.0</td>\n",
              "      <td>bagus sekali</td>\n",
              "      <td>utara</td>\n",
              "      <td>2</td>\n",
              "      <td>unfurnished</td>\n",
              "    </tr>\n",
              "    <tr>\n",
              "      <th>4</th>\n",
              "      <td>https://www.rumah123.com/properti/bekasi/hos10...</td>\n",
              "      <td>4.500000e+09</td>\n",
              "      <td>Rumah Hoek di Cluster Maple Summarecon Bekasi,...</td>\n",
              "      <td>Summarecon Bekasi, Bekasi</td>\n",
              "      <td>Summarecon Bekasi</td>\n",
              "      <td>Bekasi</td>\n",
              "      <td>-6.223945</td>\n",
              "      <td>106.986275</td>\n",
              "      <td>Jogging Track,  Kolam Renang, Taman, Jalur Te...</td>\n",
              "      <td>rumah</td>\n",
              "      <td>...</td>\n",
              "      <td>3500 mah</td>\n",
              "      <td>1</td>\n",
              "      <td>1</td>\n",
              "      <td>2.0</td>\n",
              "      <td>9.0</td>\n",
              "      <td>2013.0</td>\n",
              "      <td>bagus</td>\n",
              "      <td>utara</td>\n",
              "      <td>1</td>\n",
              "      <td>unfurnished</td>\n",
              "    </tr>\n",
              "  </tbody>\n",
              "</table>\n",
              "<p>5 rows × 27 columns</p>\n",
              "</div>\n",
              "      <button class=\"colab-df-convert\" onclick=\"convertToInteractive('df-79fc8153-9291-4e45-88df-3267473811c6')\"\n",
              "              title=\"Convert this dataframe to an interactive table.\"\n",
              "              style=\"display:none;\">\n",
              "        \n",
              "  <svg xmlns=\"http://www.w3.org/2000/svg\" height=\"24px\"viewBox=\"0 0 24 24\"\n",
              "       width=\"24px\">\n",
              "    <path d=\"M0 0h24v24H0V0z\" fill=\"none\"/>\n",
              "    <path d=\"M18.56 5.44l.94 2.06.94-2.06 2.06-.94-2.06-.94-.94-2.06-.94 2.06-2.06.94zm-11 1L8.5 8.5l.94-2.06 2.06-.94-2.06-.94L8.5 2.5l-.94 2.06-2.06.94zm10 10l.94 2.06.94-2.06 2.06-.94-2.06-.94-.94-2.06-.94 2.06-2.06.94z\"/><path d=\"M17.41 7.96l-1.37-1.37c-.4-.4-.92-.59-1.43-.59-.52 0-1.04.2-1.43.59L10.3 9.45l-7.72 7.72c-.78.78-.78 2.05 0 2.83L4 21.41c.39.39.9.59 1.41.59.51 0 1.02-.2 1.41-.59l7.78-7.78 2.81-2.81c.8-.78.8-2.07 0-2.86zM5.41 20L4 18.59l7.72-7.72 1.47 1.35L5.41 20z\"/>\n",
              "  </svg>\n",
              "      </button>\n",
              "      \n",
              "  <style>\n",
              "    .colab-df-container {\n",
              "      display:flex;\n",
              "      flex-wrap:wrap;\n",
              "      gap: 12px;\n",
              "    }\n",
              "\n",
              "    .colab-df-convert {\n",
              "      background-color: #E8F0FE;\n",
              "      border: none;\n",
              "      border-radius: 50%;\n",
              "      cursor: pointer;\n",
              "      display: none;\n",
              "      fill: #1967D2;\n",
              "      height: 32px;\n",
              "      padding: 0 0 0 0;\n",
              "      width: 32px;\n",
              "    }\n",
              "\n",
              "    .colab-df-convert:hover {\n",
              "      background-color: #E2EBFA;\n",
              "      box-shadow: 0px 1px 2px rgba(60, 64, 67, 0.3), 0px 1px 3px 1px rgba(60, 64, 67, 0.15);\n",
              "      fill: #174EA6;\n",
              "    }\n",
              "\n",
              "    [theme=dark] .colab-df-convert {\n",
              "      background-color: #3B4455;\n",
              "      fill: #D2E3FC;\n",
              "    }\n",
              "\n",
              "    [theme=dark] .colab-df-convert:hover {\n",
              "      background-color: #434B5C;\n",
              "      box-shadow: 0px 1px 3px 1px rgba(0, 0, 0, 0.15);\n",
              "      filter: drop-shadow(0px 1px 2px rgba(0, 0, 0, 0.3));\n",
              "      fill: #FFFFFF;\n",
              "    }\n",
              "  </style>\n",
              "\n",
              "      <script>\n",
              "        const buttonEl =\n",
              "          document.querySelector('#df-79fc8153-9291-4e45-88df-3267473811c6 button.colab-df-convert');\n",
              "        buttonEl.style.display =\n",
              "          google.colab.kernel.accessAllowed ? 'block' : 'none';\n",
              "\n",
              "        async function convertToInteractive(key) {\n",
              "          const element = document.querySelector('#df-79fc8153-9291-4e45-88df-3267473811c6');\n",
              "          const dataTable =\n",
              "            await google.colab.kernel.invokeFunction('convertToInteractive',\n",
              "                                                     [key], {});\n",
              "          if (!dataTable) return;\n",
              "\n",
              "          const docLinkHtml = 'Like what you see? Visit the ' +\n",
              "            '<a target=\"_blank\" href=https://colab.research.google.com/notebooks/data_table.ipynb>data table notebook</a>'\n",
              "            + ' to learn more about interactive tables.';\n",
              "          element.innerHTML = '';\n",
              "          dataTable['output_type'] = 'display_data';\n",
              "          await google.colab.output.renderOutput(dataTable, element);\n",
              "          const docLink = document.createElement('div');\n",
              "          docLink.innerHTML = docLinkHtml;\n",
              "          element.appendChild(docLink);\n",
              "        }\n",
              "      </script>\n",
              "    </div>\n",
              "  </div>\n",
              "  "
            ]
          },
          "metadata": {},
          "execution_count": 3
        }
      ]
    },
    {
      "cell_type": "code",
      "source": [
        "df.shape"
      ],
      "metadata": {
        "colab": {
          "base_uri": "https://localhost:8080/"
        },
        "id": "KpKoWSVqrGrv",
        "outputId": "f6b3017b-3628-4158-a4c8-da69ff2fa14b"
      },
      "execution_count": 12,
      "outputs": [
        {
          "output_type": "execute_result",
          "data": {
            "text/plain": [
              "(3553, 27)"
            ]
          },
          "metadata": {},
          "execution_count": 12
        }
      ]
    },
    {
      "cell_type": "code",
      "source": [
        "def find_missing_values(df):\n",
        "    missing_values = df.isnull().sum()\n",
        "    return missing_values\n",
        "def find_missing_values_Persentace(df):\n",
        "    missing_values = df.isnull().sum()\n",
        "    missing_percentages = (missing_values / len(df)) * 100\n",
        "    return missing_percentages\n",
        "def separate_numeric_categorical_columns(df):\n",
        "    numeric_columns = df.select_dtypes(include=np.number).columns.tolist()\n",
        "    categorical_columns = df.select_dtypes(exclude=np.number).columns.tolist()\n",
        "    return numeric_columns, categorical_columns\n"
      ],
      "metadata": {
        "id": "EF4_v9Kon-ZL"
      },
      "execution_count": 15,
      "outputs": []
    },
    {
      "cell_type": "code",
      "source": [
        "missing_values = find_missing_values(df)\n",
        "print(missing_values)"
      ],
      "metadata": {
        "colab": {
          "base_uri": "https://localhost:8080/"
        },
        "id": "fC4EE8-lqc8A",
        "outputId": "ac0f1e80-42a7-4f44-ed6f-7b9b93d5565c"
      },
      "execution_count": 14,
      "outputs": [
        {
          "output_type": "stream",
          "name": "stdout",
          "text": [
            "url                        0\n",
            "price_in_rp                0\n",
            "title                      0\n",
            "address                    0\n",
            "district                   0\n",
            "city                       0\n",
            "lat                        0\n",
            "long                       0\n",
            "facilities                 0\n",
            "property_type              1\n",
            "ads_id                     4\n",
            "bedrooms                  34\n",
            "bathrooms                 29\n",
            "land_size_m2               2\n",
            "building_size_m2           2\n",
            "carports                   0\n",
            "certificate              141\n",
            "electricity                0\n",
            "maid_bedrooms              0\n",
            "maid_bathrooms             0\n",
            "floors                     6\n",
            "building_age            1445\n",
            "year_built              1445\n",
            "property_condition       246\n",
            "building_orientation    1647\n",
            "garages                    0\n",
            "furnishing               387\n",
            "dtype: int64\n"
          ]
        }
      ]
    },
    {
      "cell_type": "code",
      "source": [
        "persentace=find_missing_values_Persentace(df)\n",
        "print(persentace)"
      ],
      "metadata": {
        "colab": {
          "base_uri": "https://localhost:8080/"
        },
        "id": "exvSHXR4qxw9",
        "outputId": "39a18312-6c46-4b24-ba82-6c5c712623ab"
      },
      "execution_count": 11,
      "outputs": [
        {
          "output_type": "stream",
          "name": "stdout",
          "text": [
            "url                      0.000000\n",
            "price_in_rp              0.000000\n",
            "title                    0.000000\n",
            "address                  0.000000\n",
            "district                 0.000000\n",
            "city                     0.000000\n",
            "lat                      0.000000\n",
            "long                     0.000000\n",
            "facilities               0.000000\n",
            "property_type            0.028145\n",
            "ads_id                   0.112581\n",
            "bedrooms                 0.956938\n",
            "bathrooms                0.816212\n",
            "land_size_m2             0.056290\n",
            "building_size_m2         0.056290\n",
            "carports                 0.000000\n",
            "certificate              3.968477\n",
            "electricity              0.000000\n",
            "maid_bedrooms            0.000000\n",
            "maid_bathrooms           0.000000\n",
            "floors                   0.168871\n",
            "building_age            40.669856\n",
            "year_built              40.669856\n",
            "property_condition       6.923726\n",
            "building_orientation    46.355193\n",
            "garages                  0.000000\n",
            "furnishing              10.892204\n",
            "dtype: float64\n"
          ]
        }
      ]
    },
    {
      "cell_type": "code",
      "source": [
        "numeric_cols, categorical_cols = separate_numeric_categorical_columns(df)\n",
        "\n",
        "print(\"Numeric Columns:\")\n",
        "print(numeric_cols)\n",
        "\n",
        "print(\"\\nCategorical Columns:\")\n",
        "print(categorical_cols)\n"
      ],
      "metadata": {
        "colab": {
          "base_uri": "https://localhost:8080/"
        },
        "id": "mGX846Jasl2q",
        "outputId": "eb0261e4-0dad-4326-a46d-e213cdeaafa6"
      },
      "execution_count": 16,
      "outputs": [
        {
          "output_type": "stream",
          "name": "stdout",
          "text": [
            "Numeric Columns:\n",
            "['price_in_rp', 'lat', 'long', 'bedrooms', 'bathrooms', 'land_size_m2', 'building_size_m2', 'carports', 'maid_bedrooms', 'maid_bathrooms', 'floors', 'building_age', 'year_built', 'garages']\n",
            "\n",
            "Categorical Columns:\n",
            "['url', 'title', 'address', 'district', 'city', 'facilities', 'property_type', 'ads_id', 'certificate', 'electricity', 'property_condition', 'building_orientation', 'furnishing']\n"
          ]
        }
      ]
    },
    {
      "cell_type": "markdown",
      "source": [
        "## Memisahkan kolom numerik dan kolom Non_Numerik"
      ],
      "metadata": {
        "id": "Jv96fIz5tFCQ"
      }
    },
    {
      "cell_type": "code",
      "source": [
        "df_num=df[numeric_cols]"
      ],
      "metadata": {
        "id": "dnIUySYtsrlM"
      },
      "execution_count": 18,
      "outputs": []
    },
    {
      "cell_type": "code",
      "source": [
        "df_col=df[categorical_cols]"
      ],
      "metadata": {
        "id": "UAMtBlees6r2"
      },
      "execution_count": 19,
      "outputs": []
    }
  ]
}